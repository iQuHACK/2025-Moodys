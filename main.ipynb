{
 "cells": [
  {
   "cell_type": "code",
   "execution_count": 17,
   "metadata": {},
   "outputs": [],
   "source": [
    "# pip install giotto-tda\n",
    "# pip install gudhi"
   ]
  },
  {
   "cell_type": "code",
   "execution_count": 35,
   "metadata": {},
   "outputs": [],
   "source": [
    "import pandas as pd\n",
    "import numpy as np\n",
    "from gtda.time_series import SingleTakensEmbedding, TakensEmbedding\n",
    "import gudhi \n",
    "import math\n",
    "#initialization\n",
    "import matplotlib.pyplot as plt\n",
    "import numpy as np\n",
    "import math\n",
    "\n",
    "# importing Qiskit\n",
    "from qiskit import transpile, assemble\n",
    "from qiskit import QuantumCircuit, ClassicalRegister, QuantumRegister\n",
    "from qiskit_aer import Aer\n",
    "import qiskit.quantum_info as qi\n",
    "\n",
    "\n",
    "# import basic plot tools\n",
    "from qiskit.visualization import plot_histogram\n",
    "\n",
    "time_series = np.log(pd.read_csv(\"SP500.csv\", header=None).to_numpy().squeeze())"
   ]
  },
  {
   "cell_type": "code",
   "execution_count": 19,
   "metadata": {},
   "outputs": [],
   "source": [
    "# initial values for important variables -- will have to find optimal values later on\n",
    "\n",
    "n = 4 # dim of vectors\n",
    "d = 5 # time delay\n",
    "w = 5 # window size\n",
    "epsilon = 0.03 # resolution threshold\n",
    "q = 3 # number of precision qubits\n",
    "simplex_dim = 4 # maximum simplex tree dimension used\n",
    "\n",
    "np.set_printoptions(precision=3, suppress=True)"
   ]
  },
  {
   "cell_type": "code",
   "execution_count": 20,
   "metadata": {},
   "outputs": [],
   "source": [
    "def TakenEmbedding(time_series, dim, delay):\n",
    "    serie = time_series.reshape(1, -1)\n",
    "    TE = TakensEmbedding(time_delay=delay, dimension=dim)\n",
    "    return TE.fit_transform(serie)[0]"
   ]
  },
  {
   "cell_type": "code",
   "execution_count": 21,
   "metadata": {},
   "outputs": [],
   "source": [
    "def TakenPointCloud(time_series, dim, delay, window_size):\n",
    "    embedding = TakenEmbedding(time_series, dim, delay)\n",
    "    point_cloud = []\n",
    "    l = len(embedding)\n",
    "    for i in range(l - window_size):\n",
    "        window = embedding[i : i + window_size]\n",
    "        point_cloud.append(window)\n",
    "\n",
    "    return np.array(point_cloud)"
   ]
  },
  {
   "cell_type": "code",
   "execution_count": 22,
   "metadata": {},
   "outputs": [],
   "source": [
    "def SimplexTrees(clouds, simplices, resolution):\n",
    "    tree = []\n",
    "\n",
    "    for i in range(len(clouds)):\n",
    "        rips_complex = gudhi.RipsComplex(points = clouds[i], max_edge_length = resolution)\n",
    "        simplex_tree = rips_complex.create_simplex_tree(max_dimension = simplices)\n",
    "\n",
    "        simplex = [val for val, dist in simplex_tree.get_filtration()]\n",
    "\n",
    "        simplex = sorted(simplex, key=lambda vector: (len(vector), vector))\n",
    "\n",
    "        tree.append(simplex)\n",
    "\n",
    "    return tree"
   ]
  },
  {
   "cell_type": "code",
   "execution_count": 23,
   "metadata": {},
   "outputs": [],
   "source": [
    "import scipy\n",
    "\n",
    "def unitarize(h):\n",
    "    if not np.allclose(h, h.conj().T, atol = 1e-8):\n",
    "        raise ValueError(\"Input matrix H must be Hermitian.\")\n",
    "    ih = 1j * h\n",
    "    return scipy.linalg.expm(ih)"
   ]
  },
  {
   "cell_type": "code",
   "execution_count": 24,
   "metadata": {},
   "outputs": [],
   "source": [
    "def BoundaryOperators(simplex_tree, dimension):\n",
    "    minus = [elem for elem in simplex_tree if len(elem) == dimension] # for 1-simplicities will find all points, etc.\n",
    "    forms = [elem for elem in simplex_tree if len(elem) == dimension + 1] # for 1-simplicities will find all edges, etc. \n",
    "\n",
    "    if(dimension == 0):\n",
    "        return np.array([[(-1) ** i] for i in range(len([item for item in simplex_tree if len(item) == 1]))])\n",
    "\n",
    "    operator = []\n",
    "\n",
    "    for simplex_minus in minus:\n",
    "        simplices = []\n",
    "\n",
    "        for simplex_form in forms:\n",
    "            if(all(item in simplex_form for item in simplex_minus) and len(simplex_minus) + 1 == len(simplex_form)):\n",
    "                val = list(set(simplex_form).symmetric_difference(simplex_minus))[0]\n",
    "                if(val % 2 == 1):\n",
    "                    simplices.append(-1)\n",
    "                else:\n",
    "                    simplices.append(1)\n",
    "            else:\n",
    "                simplices.append(0)\n",
    "\n",
    "        operator.append(simplices)\n",
    "\n",
    "    return np.array(operator)"
   ]
  },
  {
   "cell_type": "code",
   "execution_count": 25,
   "metadata": {},
   "outputs": [],
   "source": [
    "def CombinatorialLaplacian(tree, index):    \n",
    "    delta_k = np.array(BoundaryOperators(tree, index))\n",
    "    delta_l = np.array(BoundaryOperators(tree, index + 1))\n",
    "\n",
    "    temp = np.matmul(delta_k.conj().T, delta_k) + np.matmul(delta_l, delta_l.conj().T)\n",
    "\n",
    "    points = len([items for items in tree if len(items) == index + 1])\n",
    "    dim = 2 ** math.ceil(math.log(points, 2))\n",
    "    pad = dim - points\n",
    "    temp = np.pad(temp, (0, pad))\n",
    "\n",
    "    gershgorin = []\n",
    "    for i in range(len(temp)):\n",
    "        sum = 0\n",
    "        \n",
    "        for j in range(len(temp[i])):\n",
    "            if(i != j):\n",
    "                sum += np.abs(temp[i][j])\n",
    "        \n",
    "        gershgorin.append(sum)\n",
    "\n",
    "    max_eigenval = max(gershgorin)\n",
    "    \n",
    "    for i in range(points, dim):\n",
    "        temp[i][i] = max_eigenval / 2\n",
    "    \n",
    "    return temp * 6 / max_eigenval # return val should be Hermitian"
   ]
  },
  {
   "cell_type": "code",
   "execution_count": 32,
   "metadata": {},
   "outputs": [],
   "source": [
    "point_clouds = TakenPointCloud(time_series, n, d, w)\n",
    "# point_cloud[t] gives the point cloud at time t"
   ]
  },
  {
   "cell_type": "code",
   "execution_count": 53,
   "metadata": {},
   "outputs": [
    {
     "name": "stdout",
     "output_type": "stream",
     "text": [
      "63\n"
     ]
    }
   ],
   "source": [
    "simplex_trees = SimplexTrees(point_clouds, simplex_dim, epsilon)\n",
    "# simplex_trees[t] gives the simplex trees for the point cloud at time t"
   ]
  },
  {
   "cell_type": "code",
   "execution_count": 54,
   "metadata": {},
   "outputs": [
    {
     "name": "stdout",
     "output_type": "stream",
     "text": [
      "63\n"
     ]
    }
   ],
   "source": [
    "laplacians = [[unitarize(CombinatorialLaplacian(simplex_trees[i], 0)), unitarize(CombinatorialLaplacian(simplex_trees[i], 0))] for i in range(len(simplex_trees))]\n",
    "# laplacians[t][i] gives the ith Laplacian matrix of the point cloud at time t"
   ]
  },
  {
   "cell_type": "code",
   "execution_count": 29,
   "metadata": {},
   "outputs": [],
   "source": [
    "def qft_dagger(qc, n):\n",
    "    \"\"\"n-qubit QFTdagger the first n qubits in circ\"\"\"\n",
    "    # Don't forget the Swaps!\n",
    "    for qubit in range(n//2):\n",
    "        qc.swap(qubit, n-qubit-1)\n",
    "    for j in range(n):\n",
    "        for m in range(j):\n",
    "            qc.cp(-math.pi/float(2**(j-m)), m, j)\n",
    "        qc.h(j)"
   ]
  },
  {
   "cell_type": "code",
   "execution_count": 113,
   "metadata": {},
   "outputs": [
    {
     "data": {
      "text/html": [
       "<pre style=\"word-wrap: normal;white-space: pre;background: #fff0;line-height: 1.1;font-family: &quot;Courier New&quot;,Courier,monospace\">     ┌───┐                                                                    »\n",
       "q_0: ┤ H ├────────■───────────────────────────────────────────────────────────»\n",
       "     ├───┤        │                                                           »\n",
       "q_1: ┤ H ├────────┼────────────────■────────────────■─────────────────────────»\n",
       "     ├───┤        │                │                │                         »\n",
       "q_2: ┤ H ├────────┼────────────────┼────────────────┼────────────────■────────»\n",
       "     └───┘┌───────┴───────┐┌───────┴───────┐┌───────┴───────┐┌───────┴───────┐»\n",
       "q_3: ─────┤0              ├┤0              ├┤0              ├┤0              ├»\n",
       "          │               ││               ││               ││               │»\n",
       "q_4: ─────┤1 circuit-1441 ├┤1 circuit-1441 ├┤1 circuit-1441 ├┤1 circuit-1441 ├»\n",
       "          │               ││               ││               ││               │»\n",
       "q_5: ─────┤2              ├┤2              ├┤2              ├┤2              ├»\n",
       "          └───────────────┘└───────────────┘└───────────────┘└───────────────┘»\n",
       "«                                                        \n",
       "«q_0: ───────────────────────────────────────────────────\n",
       "«                                                        \n",
       "«q_1: ───────────────────────────────────────────────────\n",
       "«                                                        \n",
       "«q_2: ────────■────────────────■────────────────■────────\n",
       "«     ┌───────┴───────┐┌───────┴───────┐┌───────┴───────┐\n",
       "«q_3: ┤0              ├┤0              ├┤0              ├\n",
       "«     │               ││               ││               │\n",
       "«q_4: ┤1 circuit-1441 ├┤1 circuit-1441 ├┤1 circuit-1441 ├\n",
       "«     │               ││               ││               │\n",
       "«q_5: ┤2              ├┤2              ├┤2              ├\n",
       "«     └───────────────┘└───────────────┘└───────────────┘</pre>"
      ],
      "text/plain": [
       "     ┌───┐                                                                    »\n",
       "q_0: ┤ H ├────────■───────────────────────────────────────────────────────────»\n",
       "     ├───┤        │                                                           »\n",
       "q_1: ┤ H ├────────┼────────────────■────────────────■─────────────────────────»\n",
       "     ├───┤        │                │                │                         »\n",
       "q_2: ┤ H ├────────┼────────────────┼────────────────┼────────────────■────────»\n",
       "     └───┘┌───────┴───────┐┌───────┴───────┐┌───────┴───────┐┌───────┴───────┐»\n",
       "q_3: ─────┤0              ├┤0              ├┤0              ├┤0              ├»\n",
       "          │               ││               ││               ││               │»\n",
       "q_4: ─────┤1 circuit-1441 ├┤1 circuit-1441 ├┤1 circuit-1441 ├┤1 circuit-1441 ├»\n",
       "          │               ││               ││               ││               │»\n",
       "q_5: ─────┤2              ├┤2              ├┤2              ├┤2              ├»\n",
       "          └───────────────┘└───────────────┘└───────────────┘└───────────────┘»\n",
       "«                                                        \n",
       "«q_0: ───────────────────────────────────────────────────\n",
       "«                                                        \n",
       "«q_1: ───────────────────────────────────────────────────\n",
       "«                                                        \n",
       "«q_2: ────────■────────────────■────────────────■────────\n",
       "«     ┌───────┴───────┐┌───────┴───────┐┌───────┴───────┐\n",
       "«q_3: ┤0              ├┤0              ├┤0              ├\n",
       "«     │               ││               ││               │\n",
       "«q_4: ┤1 circuit-1441 ├┤1 circuit-1441 ├┤1 circuit-1441 ├\n",
       "«     │               ││               ││               │\n",
       "«q_5: ┤2              ├┤2              ├┤2              ├\n",
       "«     └───────────────┘└───────────────┘└───────────────┘"
      ]
     },
     "execution_count": 113,
     "metadata": {},
     "output_type": "execute_result"
    }
   ],
   "source": [
    "# Create and set up circuit\n",
    "counting_q = 3\n",
    "kickback_q = int(math.log(len(laplacians[0][0]), 2))\n",
    "qpe_L = QuantumCircuit(kickback_q, 0)\n",
    "qpe_f = QuantumCircuit(kickback_q + counting_q, 0)\n",
    "\n",
    "# Apply H-Gates to counting qubits:\n",
    "for qubit in range(counting_q):\n",
    "    qpe_f.h(qubit)\n",
    "\n",
    "unitary_matrix = qi.Operator(laplacians[0][0])\n",
    "\n",
    "qubit_array = [q for q in range(kickback_q)]\n",
    "\n",
    "qpe_L.unitary(unitary_matrix, qubit_array, label=\"L\")\n",
    "L = qpe_L.to_gate().control(1)\n",
    "\n",
    "for i in range(3):\n",
    "    for j in range(2 ** i):\n",
    "        qpe_f.append(L, [i, 3, 4, 5])\n",
    "\n",
    "qpe_f.draw()\n"
   ]
  },
  {
   "cell_type": "code",
   "execution_count": 99,
   "metadata": {},
   "outputs": [
    {
     "data": {
      "text/html": [
       "<pre style=\"word-wrap: normal;white-space: pre;background: #fff0;line-height: 1.1;font-family: &quot;Courier New&quot;,Courier,monospace\">                     \n",
       " q8: ───────■────────\n",
       "     ┌──────┴───────┐\n",
       "q_0: ┤0             ├\n",
       "     │              │\n",
       "q_1: ┤1 circuit-540 ├\n",
       "     │              │\n",
       "q_2: ┤2             ├\n",
       "     └──────────────┘</pre>"
      ],
      "text/plain": [
       "                     \n",
       " q8: ───────■────────\n",
       "     ┌──────┴───────┐\n",
       "q_0: ┤0             ├\n",
       "     │              │\n",
       "q_1: ┤1 circuit-540 ├\n",
       "     │              │\n",
       "q_2: ┤2             ├\n",
       "     └──────────────┘"
      ]
     },
     "execution_count": 99,
     "metadata": {},
     "output_type": "execute_result"
    }
   ],
   "source": [
    "qpe3 = QuantumCircuit(kickback_q, 0)\n",
    "unitary_matrix = qi.Operator(laplacians[0][0])\n",
    "qubit_array = []\n",
    "for q in range(kickback_q):\n",
    "    qubit_array.append(q)\n",
    "\n",
    "qpe3.unitary(unitary_matrix, qubit_array, label=\"L\")\n",
    "qpe_controlled = qpe3.control(1)\n",
    "qpe_controlled.draw()"
   ]
  }
 ],
 "metadata": {
  "kernelspec": {
   "display_name": ".venv",
   "language": "python",
   "name": "python3"
  },
  "language_info": {
   "codemirror_mode": {
    "name": "ipython",
    "version": 3
   },
   "file_extension": ".py",
   "mimetype": "text/x-python",
   "name": "python",
   "nbconvert_exporter": "python",
   "pygments_lexer": "ipython3",
   "version": "3.12.8"
  }
 },
 "nbformat": 4,
 "nbformat_minor": 2
}
