{
 "cells": [
  {
   "cell_type": "code",
   "execution_count": null,
   "metadata": {},
   "outputs": [],
   "source": [
    "# pip install giotto-tda\n",
    "# pip install gudhi"
   ]
  },
  {
   "cell_type": "code",
   "execution_count": 6,
   "metadata": {},
   "outputs": [],
   "source": [
    "import pandas as pd\n",
    "import numpy as np\n",
    "import matplotlib as plt\n",
    "from gtda.time_series import TakensEmbedding\n",
    "\n",
    "time_series = np.log(pd.read_csv(\"SP500.csv\", header=None).to_numpy().squeeze())"
   ]
  },
  {
   "cell_type": "code",
   "execution_count": null,
   "metadata": {},
   "outputs": [],
   "source": [
    "# initial values for important variables -- will have to find optimal values later on\n",
    "\n",
    "n = 4 # dim of vectors\n",
    "d = 5 # time delay\n",
    "w = 5 # window size\n",
    "epsilon = 0.1 # resolution threshold\n",
    "q = 3 # number of precision qubits"
   ]
  },
  {
   "cell_type": "code",
   "execution_count": 7,
   "metadata": {},
   "outputs": [
    {
     "name": "stdout",
     "output_type": "stream",
     "text": [
      "[7.13389833 7.14663437 7.15787955 7.15000317 7.15460754 7.17081353\n",
      " 7.1664011  7.15850232 7.15946102 7.16732333 7.16110014 7.14610857\n",
      " 7.14739207 7.14883305 7.15964177 7.15205153 7.14628387 7.15252724\n",
      " 7.16494271 7.16181205 7.16068091 7.14995608 7.1324017  7.11748932\n",
      " 7.14356823 7.1275111  7.11751162 7.11588874 7.12676429 7.1003324\n",
      " 7.083176   7.07167947 7.07524869 7.13058478 7.11353698 7.09150706\n",
      " 7.07971711 7.09110755 7.09088068 7.04975602 7.04385182 7.05262589\n",
      " 7.033771   7.02098128 6.96319235 6.94063381 6.89343574 6.86238651\n",
      " 6.78607058 6.87410801 6.92364831 6.85162134 6.82220011 6.84764428\n",
      " 6.87451644 6.87316383 6.81779775 6.80058479 6.7681397  6.75974239\n",
      " 6.80223086 6.84576817 6.8574904  6.86967691 6.8744389  6.90109565\n",
      " 6.8813343  6.82972617 6.82546547 6.83743206 6.80419869 6.76743518\n",
      " 6.77423817 6.78875494 6.75812644 6.74558041 6.7259366  6.65814903\n",
      " 6.65470005 6.72647918 6.75396287 6.76198067 6.79041496]\n"
     ]
    }
   ],
   "source": [
    "print(time_series)"
   ]
  },
  {
   "cell_type": "code",
   "execution_count": null,
   "metadata": {},
   "outputs": [],
   "source": [
    "def TakenEmbedding(time_series, dim, delay):\n",
    "    TE = TakensEmbedding(time_delay = delay, dimension = dim)\n",
    "    return TE.fit_transform(time_series)"
   ]
  }
 ],
 "metadata": {
  "kernelspec": {
   "display_name": "Python 3",
   "language": "python",
   "name": "python3"
  },
  "language_info": {
   "codemirror_mode": {
    "name": "ipython",
    "version": 3
   },
   "file_extension": ".py",
   "mimetype": "text/x-python",
   "name": "python",
   "nbconvert_exporter": "python",
   "pygments_lexer": "ipython3",
   "version": "3.12.4"
  }
 },
 "nbformat": 4,
 "nbformat_minor": 2
}
