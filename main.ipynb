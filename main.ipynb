{
 "cells": [
  {
   "cell_type": "code",
   "execution_count": 466,
   "metadata": {},
   "outputs": [],
   "source": [
    "# pip install giotto-tda\n",
    "# pip install gudhi"
   ]
  },
  {
   "cell_type": "code",
   "execution_count": 467,
   "metadata": {},
   "outputs": [],
   "source": [
    "import pandas as pd\n",
    "import numpy as np\n",
    "from gtda.time_series import SingleTakensEmbedding, TakensEmbedding\n",
    "import gudhi \n",
    "import math\n",
    "#initialization\n",
    "import matplotlib.pyplot as plt\n",
    "import numpy as np\n",
    "import math\n",
    "\n",
    "# importing Qiskit\n",
    "from qiskit import transpile, assemble\n",
    "from qiskit import QuantumCircuit, ClassicalRegister, QuantumRegister\n",
    "from qiskit_aer import Aer\n",
    "import qiskit.quantum_info as qi\n",
    "\n",
    "\n",
    "# import basic plot tools\n",
    "from qiskit.visualization import plot_histogram\n",
    "\n",
    "time_series = np.log(pd.read_csv(\"SP500.csv\", header=None).to_numpy().squeeze())"
   ]
  },
  {
   "cell_type": "code",
   "execution_count": 468,
   "metadata": {},
   "outputs": [],
   "source": [
    "# initial values for important variables -- will have to find optimal values later on\n",
    "\n",
    "n = 4 # dim of vectors\n",
    "d = 5 # time delay\n",
    "w = 5 # window size\n",
    "epsilon = 0.02 # resolution threshold\n",
    "q = 3 # number of precision qubits\n",
    "simplex_dim = 4 # maximum simplex tree dimension used\n",
    "\n",
    "np.set_printoptions(precision=3, suppress=True)"
   ]
  },
  {
   "cell_type": "code",
   "execution_count": 469,
   "metadata": {},
   "outputs": [],
   "source": [
    "def TakenEmbedding(time_series, dim, delay):\n",
    "    serie = time_series.reshape(1, -1)\n",
    "    TE = TakensEmbedding(time_delay=delay, dimension=dim)\n",
    "    return TE.fit_transform(serie)[0]"
   ]
  },
  {
   "cell_type": "code",
   "execution_count": 470,
   "metadata": {},
   "outputs": [],
   "source": [
    "def TakenPointCloud(time_series, dim, delay, window_size):\n",
    "    embedding = TakenEmbedding(time_series, dim, delay)\n",
    "    point_cloud = []\n",
    "    l = len(embedding)\n",
    "    for i in range(l - window_size):\n",
    "        window = embedding[i : i + window_size]\n",
    "        point_cloud.append(window)\n",
    "\n",
    "    return np.array(point_cloud)"
   ]
  },
  {
   "cell_type": "code",
   "execution_count": 471,
   "metadata": {},
   "outputs": [],
   "source": [
    "def SimplexTrees(cloud, simplices, resolution):\n",
    "    rips_complex = gudhi.RipsComplex(points = cloud, max_edge_length = resolution)\n",
    "    simplex_tree = rips_complex.create_simplex_tree(max_dimension = simplices)\n",
    "\n",
    "    simplex = [val for val, dist in simplex_tree.get_filtration()]\n",
    "\n",
    "    simplex = sorted(simplex, key=lambda vector: (len(vector), vector))\n",
    "    return simplex"
   ]
  },
  {
   "cell_type": "code",
   "execution_count": 472,
   "metadata": {},
   "outputs": [],
   "source": [
    "import scipy\n",
    "\n",
    "def unitarize(h):\n",
    "    if np.any(np.isinf(h)):\n",
    "        h = np.identity(len(h))\n",
    "    if not np.allclose(h, h.conj().T, atol = 1e-8):\n",
    "        print(h)\n",
    "        raise ValueError(\"Input matrix H must be Hermitian.\")\n",
    "    ih = 1j * h\n",
    "    return scipy.linalg.expm(ih)"
   ]
  },
  {
   "cell_type": "code",
   "execution_count": 473,
   "metadata": {},
   "outputs": [],
   "source": [
    "def BoundaryOperators(simplex_tree, dimension):\n",
    "    minus = [elem for elem in simplex_tree if len(elem) == dimension] # for 1-simplicities will find all points, etc.\n",
    "    forms = [elem for elem in simplex_tree if len(elem) == dimension + 1] # for 1-simplicities will find all edges, etc. \n",
    "\n",
    "    if(dimension == 0):\n",
    "        return np.array([[(-1) ** i] for i in range(len([item for item in simplex_tree if len(item) == 1]))])\n",
    "\n",
    "    operator = []\n",
    "\n",
    "    for simplex_minus in minus:\n",
    "        simplices = []\n",
    "\n",
    "        for simplex_form in forms:\n",
    "            if(all(item in simplex_form for item in simplex_minus) and len(simplex_minus) + 1 == len(simplex_form)):\n",
    "                val = list(set(simplex_form) - set(simplex_minus))[0]\n",
    "                if(val % 2 == 1):\n",
    "                    simplices.append(-1)\n",
    "                else:\n",
    "                    simplices.append(1)\n",
    "            else:\n",
    "                simplices.append(0)\n",
    "\n",
    "        operator.append(simplices)\n",
    "    return np.array(operator)"
   ]
  },
  {
   "cell_type": "code",
   "execution_count": 474,
   "metadata": {},
   "outputs": [],
   "source": [
    "def CombinatorialLaplacian(tree, index):    \n",
    "    delta_k = np.array(BoundaryOperators(tree, index))\n",
    "    delta_l = np.array(BoundaryOperators(tree, index + 1))\n",
    "\n",
    "    temp = np.matmul(delta_k.conj().T, delta_k) + np.matmul(delta_l, delta_l.conj().T)\n",
    "\n",
    "    points = len([items for items in tree if len(items) == index + 1])\n",
    "\n",
    "    if(len(temp) <= 1):\n",
    "        return np.array([1])\n",
    "\n",
    "    dim = 2 ** math.ceil(math.log(points, 2))\n",
    "    pad = dim - points\n",
    "    temp = np.pad(temp, (0, pad))\n",
    "\n",
    "    gershgorin = []\n",
    "    for i in range(len(temp)):\n",
    "        sum = 0\n",
    "        \n",
    "        for j in range(len(temp[i])):\n",
    "            if(i != j):\n",
    "                sum += np.abs(temp[i][j])\n",
    "        \n",
    "        gershgorin.append(sum)\n",
    "\n",
    "    max_eigenval = max(gershgorin)\n",
    "    \n",
    "    for i in range(points, dim):\n",
    "        temp[i][i] = max_eigenval / 2\n",
    "    \n",
    "    return temp * 6 / max_eigenval # return val should be Hermitian"
   ]
  },
  {
   "cell_type": "code",
   "execution_count": 475,
   "metadata": {},
   "outputs": [],
   "source": [
    "point_clouds = TakenPointCloud(time_series, n, d, w)\n",
    "# point_cloud[t] gives the point cloud at time t"
   ]
  },
  {
   "cell_type": "code",
   "execution_count": 476,
   "metadata": {},
   "outputs": [],
   "source": [
    "# simplex_trees = SimplexTrees(point_clouds, simplex_dim, epsilon[0])\n",
    "# simplex_trees[t] gives the simplex trees for the point cloud at time t"
   ]
  },
  {
   "cell_type": "code",
   "execution_count": 477,
   "metadata": {},
   "outputs": [],
   "source": [
    "# laplacians = [[unitarize(CombinatorialLaplacian(simplex_trees[i], 0)), unitarize(CombinatorialLaplacian(simplex_trees[i], 1))] for i in range(len(simplex_trees))]\n",
    "# laplacians[t][i] gives the ith Laplacian matrix of the point cloud at time t"
   ]
  },
  {
   "cell_type": "code",
   "execution_count": 478,
   "metadata": {},
   "outputs": [],
   "source": [
    "def qft_dagger(qc, n):\n",
    "    \"\"\"n-qubit QFTdagger the first n qubits in circ\"\"\"\n",
    "    # Don't forget the Swaps!\n",
    "    for qubit in range(n//2):\n",
    "        qc.swap(qubit, n-qubit-1)\n",
    "    for j in range(n):\n",
    "        for m in range(j):\n",
    "            qc.cp(-math.pi/float(2**(j-m)), m, j)\n",
    "        qc.h(j)\n",
    "    "
   ]
  },
  {
   "cell_type": "code",
   "execution_count": 479,
   "metadata": {},
   "outputs": [],
   "source": [
    "def betti_num(laplacian):\n",
    "    # Create and set up circuit\n",
    "    counting_q = 3\n",
    "    kickback_q = int(math.log(len(laplacian), 2))\n",
    "    qpe_L = QuantumCircuit(kickback_q, 0)\n",
    "    qpe_f = QuantumCircuit(kickback_q + counting_q, counting_q)\n",
    "\n",
    "    # Apply H-Gates to counting qubits:\n",
    "    for qubit in range(counting_q):\n",
    "        qpe_f.h(qubit)\n",
    "\n",
    "    if(kickback_q > 0):\n",
    "        unitary_matrix = qi.Operator(laplacian)\n",
    "\n",
    "        qubit_array = [q for q in range(kickback_q)]\n",
    "\n",
    "        qpe_L.unitary(unitary_matrix, qubit_array, label=\"L\")\n",
    "        L = qpe_L.to_gate().control(1)\n",
    "\n",
    "        for k in range(counting_q):\n",
    "            for j in range(2 ** k):\n",
    "                q_list = [k]\n",
    "                q_extend = list(range(counting_q, counting_q + kickback_q))\n",
    "                q_list.extend(q_extend)\n",
    "                qpe_f.append(L, q_list)\n",
    "\n",
    "    qft_dagger(qpe_f, 3)\n",
    "\n",
    "    qpe_f.draw()\n",
    "\n",
    "    # Measure of course!\n",
    "    qpe_f.barrier()\n",
    "    for n in range(counting_q):\n",
    "        qpe_f.measure(n,n)\n",
    "\n",
    "    qpe_f.draw()\n",
    "\n",
    "    aer_sim = Aer.get_backend('aer_simulator')\n",
    "    shots = 2048\n",
    "    t_qpe = transpile(qpe_f, aer_sim)\n",
    "    result = aer_sim.run(t_qpe, shots=shots).result()\n",
    "    counts = result.get_counts()\n",
    "    probabilities = {state: count for state, count in counts.items()}\n",
    "    count = probabilities['000']\n",
    "\n",
    "    betti_num = count / shots * pow(2, counting_q)\n",
    "    return betti_num\n"
   ]
  },
  {
   "cell_type": "code",
   "execution_count": 480,
   "metadata": {},
   "outputs": [],
   "source": [
    "# betti_nums = []\n",
    "\n",
    "# for t in range(len(laplacians)):\n",
    "#     row = [round(betti_num(laplacians, t, i)) for i in range(len(laplacians[0]))]\n",
    "#     betti_nums.append(row)\n",
    "\n",
    "# print(betti_nums)"
   ]
  },
  {
   "cell_type": "code",
   "execution_count": 481,
   "metadata": {},
   "outputs": [],
   "source": [
    "def classical_betti_solver(point_cloud, epsilon, dim):\n",
    "    '''Return the Betti number on a given point cloud.\n",
    "    Args:\n",
    "        point_cloud: the point cloud after applying the sliding window.\n",
    "        epsilon: resolution threshold.\n",
    "        dim: the dimension on which the Betti number is calculated\n",
    "    '''\n",
    "    tree = SimplexTrees(point_cloud, dim + 2, epsilon)\n",
    "    laplacian = unitarize(CombinatorialLaplacian(tree, dim))\n",
    "    betti = round(betti_num(laplacian))\n",
    "    return betti"
   ]
  },
  {
   "cell_type": "code",
   "execution_count": 482,
   "metadata": {},
   "outputs": [
    {
     "name": "stdout",
     "output_type": "stream",
     "text": [
      "0\n",
      "1\n",
      "2\n",
      "2\n",
      "3\n"
     ]
    },
    {
     "name": "stderr",
     "output_type": "stream",
     "text": [
      "C:\\Users\\ywang_sy2849a\\AppData\\Local\\Temp\\ipykernel_26940\\898678006.py:31: RuntimeWarning: divide by zero encountered in divide\n",
      "  return temp * 6 / max_eigenval # return val should be Hermitian\n",
      "C:\\Users\\ywang_sy2849a\\AppData\\Local\\Temp\\ipykernel_26940\\898678006.py:31: RuntimeWarning: invalid value encountered in divide\n",
      "  return temp * 6 / max_eigenval # return val should be Hermitian\n"
     ]
    },
    {
     "name": "stdout",
     "output_type": "stream",
     "text": [
      "0\n",
      "0\n",
      "1\n",
      "3\n",
      "0\n"
     ]
    },
    {
     "name": "stderr",
     "output_type": "stream",
     "text": [
      "C:\\Users\\ywang_sy2849a\\AppData\\Local\\Temp\\ipykernel_26940\\898678006.py:31: RuntimeWarning: divide by zero encountered in divide\n",
      "  return temp * 6 / max_eigenval # return val should be Hermitian\n",
      "C:\\Users\\ywang_sy2849a\\AppData\\Local\\Temp\\ipykernel_26940\\898678006.py:31: RuntimeWarning: invalid value encountered in divide\n",
      "  return temp * 6 / max_eigenval # return val should be Hermitian\n"
     ]
    },
    {
     "name": "stdout",
     "output_type": "stream",
     "text": [
      "8\n",
      "8\n",
      "8\n",
      "3\n",
      "3\n",
      "3\n",
      "8\n",
      "8\n",
      "8\n",
      "8\n",
      "8\n",
      "8\n",
      "8\n",
      "8\n",
      "8\n",
      "8\n",
      "8\n",
      "8\n",
      "8\n",
      "8\n",
      "8\n",
      "8\n",
      "8\n",
      "8\n",
      "8\n",
      "8\n",
      "8\n",
      "8\n",
      "8\n",
      "8\n",
      "8\n",
      "8\n",
      "8\n",
      "8\n",
      "8\n",
      "8\n",
      "8\n",
      "8\n",
      "8\n",
      "8\n",
      "8\n",
      "8\n",
      "8\n",
      "8\n",
      "8\n",
      "8\n",
      "8\n",
      "8\n",
      "8\n",
      "8\n",
      "8\n",
      "8\n",
      "8\n"
     ]
    }
   ],
   "source": [
    "for i in range(len(point_clouds)):\n",
    "    print(classical_betti_solver(point_clouds[i], epsilon, 1))"
   ]
  },
  {
   "cell_type": "code",
   "execution_count": 483,
   "metadata": {},
   "outputs": [],
   "source": [
    "from sklearn.model_selection import train_test_split\n",
    "from tensorflow import keras\n",
    "from sklearn.preprocessing import LabelEncoder, OneHotEncoder, LabelBinarizer\n",
    "from sklearn.metrics import confusion_matrix, ConfusionMatrixDisplay, roc_curve, auc\n",
    "from itertools import cycle\n",
    "\n"
   ]
  }
 ],
 "metadata": {
  "kernelspec": {
   "display_name": "Python 3",
   "language": "python",
   "name": "python3"
  },
  "language_info": {
   "codemirror_mode": {
    "name": "ipython",
    "version": 3
   },
   "file_extension": ".py",
   "mimetype": "text/x-python",
   "name": "python",
   "nbconvert_exporter": "python",
   "pygments_lexer": "ipython3",
   "version": "3.12.4"
  }
 },
 "nbformat": 4,
 "nbformat_minor": 2
}
