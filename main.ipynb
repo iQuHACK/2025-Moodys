{
 "cells": [
  {
   "cell_type": "code",
   "execution_count": 61,
   "metadata": {},
   "outputs": [],
   "source": [
    "# pip install giotto-tda\n",
    "# pip install gudhi"
   ]
  },
  {
   "cell_type": "code",
   "execution_count": 62,
   "metadata": {},
   "outputs": [],
   "source": [
    "import pandas as pd\n",
    "import numpy as np\n",
    "from gtda.time_series import SingleTakensEmbedding, TakensEmbedding\n",
    "import gudhi\n",
    "import math\n",
    "import cmath\n",
    "\n",
    "series = np.log(pd.read_csv(\"SP500.csv\", header=None).to_numpy().squeeze())"
   ]
  },
  {
   "cell_type": "code",
   "execution_count": 63,
   "metadata": {},
   "outputs": [],
   "source": [
    "# initial values for important variables -- will have to find optimal values later on\n",
    "\n",
    "n = 4 # dim of vectors\n",
    "d = 5 # time delay\n",
    "w = 5 # window size\n",
    "epsilon = 0.02 # resolution threshold\n",
    "q = 3 # number of precision qubits\n",
    "simplex_dim = 3 # maximum simplex tree dimension used"
   ]
  },
  {
   "cell_type": "code",
   "execution_count": 64,
   "metadata": {},
   "outputs": [],
   "source": [
    "def TakenEmbedding(time_series, dim, delay):\n",
    "    serie = time_series.reshape(1, -1)\n",
    "    STE = TakensEmbedding(time_delay=delay, dimension=dim)\n",
    "    return STE.fit_transform(serie)[0]"
   ]
  },
  {
   "cell_type": "code",
   "execution_count": 65,
   "metadata": {},
   "outputs": [],
   "source": [
    "def TakenPointCloud(time_series, dim, delay, window_size):\n",
    "    embedding = TakenEmbedding(time_series, dim, delay)\n",
    "    point_cloud = []\n",
    "    l = len(embedding)\n",
    "    for i in range(l - window_size):\n",
    "        window = embedding[i : i + window_size]\n",
    "        point_cloud.append(window)\n",
    "\n",
    "    return np.array(point_cloud)"
   ]
  },
  {
   "cell_type": "code",
   "execution_count": 66,
   "metadata": {},
   "outputs": [],
   "source": [
    "def SimplexTrees(clouds, simplices, e):\n",
    "    tree = []\n",
    "\n",
    "    for i in range(len(clouds)):\n",
    "        rips_complex = gudhi.RipsComplex(points = clouds[i], max_edge_length = e)\n",
    "        simplex_tree = rips_complex.create_simplex_tree(max_dimension = simplices)\n",
    "\n",
    "        simplex = [val for val, dist in simplex_tree.get_filtration()]\n",
    "\n",
    "        simplex = sorted(simplex, key=lambda vector: (len(vector), vector))\n",
    "\n",
    "        tree.append(simplex)\n",
    "\n",
    "    return tree"
   ]
  },
  {
   "cell_type": "code",
   "execution_count": 67,
   "metadata": {},
   "outputs": [],
   "source": [
    "def BoundaryOperators(simplex_tree, dimension):\n",
    "    minus = [elem for elem in simplex_tree if len(elem) == dimension]\n",
    "    forms = [elem for elem in simplex_tree if len(elem) == dimension + 1]\n",
    "\n",
    "    if(dimension == 0):\n",
    "        return np.array([[(-1) ** i] for i in range(len([item for item in simplex_tree if len(item) == 1]))])\n",
    "\n",
    "    operator = []\n",
    "\n",
    "    for simplex_minus in minus:\n",
    "        simplices = []\n",
    "\n",
    "        for simplex_form in forms:\n",
    "            if(all(item in simplex_form for item in simplex_minus) and len(simplex_minus) + 1 == len(simplex_form)):\n",
    "                val = list(set(simplex_form).symmetric_difference(simplex_minus))[0]\n",
    "                if(val % 2 == 1):\n",
    "                    simplices.append(-1)\n",
    "                else:\n",
    "                    simplices.append(1)\n",
    "            else:\n",
    "                simplices.append(0)\n",
    "\n",
    "        operator.append(simplices)\n",
    "\n",
    "    return np.array(operator)\n",
    "# if we want each operator[i] to correspond to the ith simplex"
   ]
  },
  {
   "cell_type": "code",
   "execution_count": 68,
   "metadata": {},
   "outputs": [
    {
     "name": "stdout",
     "output_type": "stream",
     "text": [
      "[[7.13389833 7.17081353 7.16110014 7.15205153]\n",
      " [7.14663437 7.1664011  7.14610857 7.14628387]\n",
      " [7.15787955 7.15850232 7.14739207 7.15252724]\n",
      " [7.15000317 7.15946102 7.14883305 7.16494271]\n",
      " [7.15460754 7.16732333 7.15964177 7.16181205]]\n"
     ]
    }
   ],
   "source": [
    "point_clouds = TakenPointCloud(series, n, d, w)\n",
    "# a numpy vector of numpy vectors of numpy vectors containing all the different point clouds.\n",
    "print(point_clouds[0])\n",
    "# point_cloud[t] gives the point cloud at time t"
   ]
  },
  {
   "cell_type": "code",
   "execution_count": 69,
   "metadata": {},
   "outputs": [
    {
     "name": "stdout",
     "output_type": "stream",
     "text": [
      "[[0], [1], [2], [3], [4], [1, 2], [2, 3], [2, 4], [3, 4], [2, 3, 4]]\n"
     ]
    }
   ],
   "source": [
    "simplex_trees = SimplexTrees(point_clouds, simplex_dim, epsilon)\n",
    "print(simplex_trees[0])\n",
    "# simplex_trees[t] gives the simplex trees for the point cloud at time t"
   ]
  },
  {
   "cell_type": "code",
   "execution_count": 75,
   "metadata": {},
   "outputs": [
    {
     "name": "stdout",
     "output_type": "stream",
     "text": [
      "[[ 0  0  0  0]\n",
      " [ 1  0  0  0]\n",
      " [-1 -1  1  0]\n",
      " [ 0  1  0  1]\n",
      " [ 0  0  1 -1]]\n",
      "[[ 0]\n",
      " [ 1]\n",
      " [-1]\n",
      " [ 1]]\n"
     ]
    }
   ],
   "source": [
    "temp = BoundaryOperators(simplex_trees[0], 1)\n",
    "print(temp)\n",
    "temp = BoundaryOperators(simplex_trees[0], 2)\n",
    "print(temp)"
   ]
  },
  {
   "cell_type": "code",
   "execution_count": 80,
   "metadata": {},
   "outputs": [],
   "source": [
    "def CombinatorialLaplacian(tree, index):    \n",
    "    delta_k = np.array(BoundaryOperators(tree, index))\n",
    "    delta_l = np.array(BoundaryOperators(tree, index + 1))\n",
    "\n",
    "    temp = np.matmul(delta_k.conj().T, delta_k) + np.matmul(delta_l, delta_l.conj().T)\n",
    "\n",
    "    points = len(temp)\n",
    "    dim = 2 ** math.ceil(math.log(len([items for items in tree if len(items) == index]), 2))\n",
    "    pad = dim - points\n",
    "    temp = np.pad(temp, (0, pad))\n",
    "\n",
    "    gershgorin = []\n",
    "    for i in range(len(temp)):\n",
    "        sum = 0\n",
    "        \n",
    "        for j in range(len(temp[i])):\n",
    "            if(i != j):\n",
    "                sum += np.abs(temp[i][j])\n",
    "        \n",
    "        gershgorin.append(sum)\n",
    "\n",
    "    max_eigenval = max(gershgorin)\n",
    "    \n",
    "    for i in range(points, dim):\n",
    "        temp[i][i] = max_eigenval / 2\n",
    "    \n",
    "    return temp * 6 / max_eigenval # return val should be Hermitian"
   ]
  },
  {
   "cell_type": "code",
   "execution_count": 77,
   "metadata": {},
   "outputs": [],
   "source": [
    "def unitarize(h):\n",
    "    if not np.allclose(h, h.conj().T, atol = 1e-8):\n",
    "        raise ValueError(\"Input matrix H must be Hermitian.\")\n",
    "    ih = 1j * h\n",
    "    return np.exp(ih)"
   ]
  },
  {
   "cell_type": "code",
   "execution_count": 82,
   "metadata": {},
   "outputs": [
    {
     "name": "stdout",
     "output_type": "stream",
     "text": [
      "[[ 2.4  1.2 -1.2  0.   0.   0.   0.   0. ]\n",
      " [ 1.2  3.6 -2.4  2.4  0.   0.   0.   0. ]\n",
      " [-1.2 -2.4  3.6 -2.4  0.   0.   0.   0. ]\n",
      " [ 0.   2.4 -2.4  3.6  0.   0.   0.   0. ]\n",
      " [ 0.   0.   0.   0.   2.4  0.   0.   0. ]\n",
      " [ 0.   0.   0.   0.   0.   2.4  0.   0. ]\n",
      " [ 0.   0.   0.   0.   0.   0.   2.4  0. ]\n",
      " [ 0.   0.   0.   0.   0.   0.   0.   2.4]]\n",
      "[[8.        +0.00000000e+00j 3.24992808-5.13151811e-01j\n",
      "  1.55658844-7.86586903e-01j 3.09056338-1.11798362e+00j\n",
      "  3.24992808-1.11022302e-16j 3.24992808-1.11022302e-16j\n",
      "  3.24992808-1.11022302e-16j 3.24992808-1.11022302e-16j]\n",
      " [3.24992808+5.13151811e-01j 8.        +0.00000000e+00j\n",
      "  5.27044584+3.20701428e-01j 6.08707326-9.32039086e-01j\n",
      "  0.25341819+1.85944538e-01j 0.25341819+1.85944538e-01j\n",
      "  0.25341819+1.85944538e-01j 0.25341819+1.85944538e-01j]\n",
      " [1.55658844+7.86586903e-01j 5.27044584-3.20701428e-01j\n",
      "  8.        +0.00000000e+00j 6.37019731-6.41255229e-02j\n",
      "  0.25341819+3.40094907e+00j 0.25341819+3.40094907e+00j\n",
      "  0.25341819+3.40094907e+00j 0.25341819+3.40094907e+00j]\n",
      " [3.09056338+1.11798362e+00j 6.08707326+9.32039086e-01j\n",
      "  6.37019731+6.41255229e-02j 8.        +0.00000000e+00j\n",
      "  0.89106044+1.11798362e+00j 0.89106044+1.11798362e+00j\n",
      "  0.89106044+1.11798362e+00j 0.89106044+1.11798362e+00j]\n",
      " [3.24992808+1.11022302e-16j 0.25341819-1.85944538e-01j\n",
      "  0.25341819-3.40094907e+00j 0.89106044-1.11798362e+00j\n",
      "  8.        +0.00000000e+00j 4.52521257+0.00000000e+00j\n",
      "  4.52521257+0.00000000e+00j 4.52521257+0.00000000e+00j]\n",
      " [3.24992808+1.11022302e-16j 0.25341819-1.85944538e-01j\n",
      "  0.25341819-3.40094907e+00j 0.89106044-1.11798362e+00j\n",
      "  4.52521257+0.00000000e+00j 8.        +0.00000000e+00j\n",
      "  4.52521257+0.00000000e+00j 4.52521257+0.00000000e+00j]\n",
      " [3.24992808+1.11022302e-16j 0.25341819-1.85944538e-01j\n",
      "  0.25341819-3.40094907e+00j 0.89106044-1.11798362e+00j\n",
      "  4.52521257+0.00000000e+00j 4.52521257+0.00000000e+00j\n",
      "  8.        +0.00000000e+00j 4.52521257+0.00000000e+00j]\n",
      " [3.24992808+1.11022302e-16j 0.25341819-1.85944538e-01j\n",
      "  0.25341819-3.40094907e+00j 0.89106044-1.11798362e+00j\n",
      "  4.52521257+0.00000000e+00j 4.52521257+0.00000000e+00j\n",
      "  4.52521257+0.00000000e+00j 8.        +0.00000000e+00j]]\n"
     ]
    }
   ],
   "source": [
    "h = CombinatorialLaplacian(simplex_trees[0], 1)\n",
    "print(h)\n",
    "u = unitarize(h)\n",
    "print(np.dot(u.conj().T, u))"
   ]
  }
 ],
 "metadata": {
  "kernelspec": {
   "display_name": "Python 3",
   "language": "python",
   "name": "python3"
  },
  "language_info": {
   "codemirror_mode": {
    "name": "ipython",
    "version": 3
   },
   "file_extension": ".py",
   "mimetype": "text/x-python",
   "name": "python",
   "nbconvert_exporter": "python",
   "pygments_lexer": "ipython3",
   "version": "3.12.4"
  }
 },
 "nbformat": 4,
 "nbformat_minor": 2
}
