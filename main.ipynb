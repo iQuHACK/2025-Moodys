{
 "cells": [
  {
   "cell_type": "code",
   "execution_count": 544,
   "metadata": {},
   "outputs": [],
   "source": [
    "# pip install giotto-tda\n",
    "# pip install gudhi"
   ]
  },
  {
   "cell_type": "code",
   "execution_count": 545,
   "metadata": {},
   "outputs": [],
   "source": [
    "import pandas as pd\n",
    "import numpy as np\n",
    "import matplotlib as plt\n",
    "from gtda.time_series import SingleTakensEmbedding, TakensEmbedding\n",
    "import gudhi\n",
    "from gtda.plotting import plot_point_cloud\n",
    "\n",
    "series = np.log(pd.read_csv(\"SP500.csv\", header=None).to_numpy().squeeze())\n",
    "time_series = np.array([])"
   ]
  },
  {
   "cell_type": "code",
   "execution_count": 546,
   "metadata": {},
   "outputs": [],
   "source": [
    "# initial values for important variables -- will have to find optimal values later on\n",
    "\n",
    "n = 4 # dim of vectors\n",
    "d = 5 # time delay\n",
    "w = 5 # window size\n",
    "epsilon = 0.1 # resolution threshold\n",
    "q = 3 # number of precision qubits\n",
    "simplex_dim = 2 # maximum simplex tree dimension used"
   ]
  },
  {
   "cell_type": "code",
   "execution_count": 547,
   "metadata": {},
   "outputs": [],
   "source": [
    "def TakenEmbedding(time_series, dim, delay):\n",
    "    serie = time_series.reshape(1, -1)\n",
    "    STE = TakensEmbedding(time_delay=delay, dimension=dim)\n",
    "    return STE.fit_transform(serie)[0]"
   ]
  },
  {
   "cell_type": "code",
   "execution_count": 548,
   "metadata": {},
   "outputs": [],
   "source": [
    "def TakenPointCloud(embedding, window_size):\n",
    "    point_cloud = []\n",
    "    l = len(embedding)\n",
    "    for i in range(l - window_size):\n",
    "        window = embedding[i : i + window_size]\n",
    "        point_cloud.append(window)\n",
    "\n",
    "    return np.array(point_cloud)"
   ]
  },
  {
   "cell_type": "markdown",
   "metadata": {},
   "source": [
    "Following Takens' embedding theorem, transform the `time_series` into a series of $ N $-dimensional vectors. Afterward, apply a sliding window to these vectors and obtain a time-varying point cloud."
   ]
  },
  {
   "cell_type": "code",
   "execution_count": 549,
   "metadata": {},
   "outputs": [
    {
     "data": {
      "text/plain": [
       "numpy.ndarray"
      ]
     },
     "execution_count": 549,
     "metadata": {},
     "output_type": "execute_result"
    }
   ],
   "source": [
    "embedding = TakenEmbedding(series, n, d)\n",
    "type(embedding[0])"
   ]
  },
  {
   "cell_type": "code",
   "execution_count": 550,
   "metadata": {},
   "outputs": [
    {
     "name": "stdout",
     "output_type": "stream",
     "text": [
      "[[7.13389833 7.17081353 7.16110014 7.15205153]\n",
      " [7.14663437 7.1664011  7.14610857 7.14628387]\n",
      " [7.15787955 7.15850232 7.14739207 7.15252724]\n",
      " [7.15000317 7.15946102 7.14883305 7.16494271]\n",
      " [7.15460754 7.16732333 7.15964177 7.16181205]]\n"
     ]
    }
   ],
   "source": [
    "point_clouds = TakenPointCloud(embedding, w)\n",
    "# a numpy vector of numpy vectors of numpy vectors containing all the different point clouds.\n",
    "print(point_clouds[0])\n",
    "# point_cloud[t] gives the point cloud at time t"
   ]
  },
  {
   "cell_type": "code",
   "execution_count": 551,
   "metadata": {},
   "outputs": [],
   "source": [
    "def SimplexTrees(clouds, simplices, e):\n",
    "    tree = []\n",
    "\n",
    "    for i in range(len(clouds)):\n",
    "        rips_complex = gudhi.RipsComplex(points = clouds[i], max_edge_length = e)\n",
    "        simplex_tree = rips_complex.create_simplex_tree(max_dimension = simplices)\n",
    "\n",
    "        simplex = [val for val, dist in simplex_tree.get_filtration()]\n",
    "\n",
    "        simplex = sorted(simplex, key=lambda vector: (len(vector), vector[0], vector[len(vector) - 1]))\n",
    "\n",
    "        tree.append(simplex)\n",
    "\n",
    "    return tree"
   ]
  },
  {
   "cell_type": "code",
   "execution_count": 552,
   "metadata": {},
   "outputs": [
    {
     "name": "stdout",
     "output_type": "stream",
     "text": [
      "[[0], [1], [2], [3], [4], [0, 1], [0, 2], [0, 3], [0, 4], [1, 2], [1, 3], [1, 4], [2, 3], [2, 4], [3, 4], [0, 1, 2], [0, 1, 3], [0, 2, 3], [0, 1, 4], [0, 3, 4], [0, 2, 4], [1, 2, 3], [1, 2, 4], [1, 3, 4], [2, 3, 4]]\n"
     ]
    }
   ],
   "source": [
    "simplex_trees = SimplexTrees(point_clouds, simplex_dim, epsilon)\n",
    "print(simplex_trees[0])\n",
    "# simplex_trees[t] gives the simplex trees for the point cloud at time t"
   ]
  },
  {
   "cell_type": "code",
   "execution_count": 559,
   "metadata": {},
   "outputs": [],
   "source": [
    "def BoundaryOperators(simplex_tree, dimension):\n",
    "    points = len([elem for elem in simplex_tree if len(elem) == 1])\n",
    "    forms = [elem for elem in simplex_tree if len(elem) == dimension + 1]\n",
    "\n",
    "    operator = []\n",
    "\n",
    "    for j in range(len(forms)):\n",
    "        col = [1 if num in forms[j] else 0 for num in range(points)]\n",
    "\n",
    "        count = 0\n",
    "\n",
    "        for j in range(len(col)):\n",
    "            if(col[j] == 1):\n",
    "                col[j] = pow(-1, count)\n",
    "                count += 1\n",
    "\n",
    "        operator.append(col)\n",
    "\n",
    "    return [[operator[j][i] for j in range(len(operator))] for i in range(len(operator[0]))] \n",
    "# if we want each operator[i] to correspond to the ith point\n",
    "\n",
    "    return operator\n",
    "# if we want each operator[i] to correspond to the ith simplex"
   ]
  },
  {
   "cell_type": "code",
   "execution_count": 562,
   "metadata": {},
   "outputs": [
    {
     "name": "stdout",
     "output_type": "stream",
     "text": [
      "[[1, 1, 1, 1, 1, 1, 0, 0, 0, 0], [-1, -1, 0, -1, 0, 0, 1, 1, 1, 0], [1, 0, -1, 0, 0, -1, -1, -1, 0, 1], [0, 1, 1, 0, -1, 0, 1, 0, -1, -1], [0, 0, 0, 1, 1, 1, 0, 1, 1, 1]]\n"
     ]
    }
   ],
   "source": [
    "print(BoundaryOperators(simplex_trees[0], 2))"
   ]
  }
 ],
 "metadata": {
  "kernelspec": {
   "display_name": "Python 3",
   "language": "python",
   "name": "python3"
  },
  "language_info": {
   "codemirror_mode": {
    "name": "ipython",
    "version": 3
   },
   "file_extension": ".py",
   "mimetype": "text/x-python",
   "name": "python",
   "nbconvert_exporter": "python",
   "pygments_lexer": "ipython3",
   "version": "3.12.4"
  }
 },
 "nbformat": 4,
 "nbformat_minor": 2
}
