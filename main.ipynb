{
 "cells": [
  {
   "cell_type": "code",
   "execution_count": null,
   "metadata": {},
   "outputs": [],
   "source": [
    "# pip install giotto-tda\n",
    "# pip install gudhi"
   ]
  },
  {
   "cell_type": "code",
   "execution_count": 6,
   "metadata": {},
   "outputs": [],
   "source": [
    "import pandas as pd\n",
    "import numpy as np\n",
    "import matplotlib as plt\n",
    "from gtda.time_series import TakensEmbedding\n",
    "\n",
    "time_series = np.log(pd.read_csv(\"SP500.csv\", header=None).to_numpy().squeeze())"
   ]
  },
  {
   "cell_type": "code",
   "execution_count": null,
   "metadata": {},
   "outputs": [],
   "source": [
    "# initial values for important variables -- will have to find optimal values later on\n",
    "\n",
    "n = 4 # dim of vectors\n",
    "d = 5 # time delay\n",
    "w = 5 # window size\n",
    "epsilon = 0.1 # resolution threshold\n",
    "q = 3 # number of precision qubits"
   ]
  },
  {
   "cell_type": "code",
   "execution_count": null,
   "metadata": {},
   "outputs": [],
   "source": [
    "def TakenEmbedding(time_series, dim, delay):\n",
    "    TE = TakensEmbedding(time_delay = delay, dimension = dim)\n",
    "    return TE.fit_transform(time_series)"
   ]
  }
 ],
 "metadata": {
  "kernelspec": {
   "display_name": "Python 3",
   "language": "python",
   "name": "python3"
  },
  "language_info": {
   "codemirror_mode": {
    "name": "ipython",
    "version": 3
   },
   "file_extension": ".py",
   "mimetype": "text/x-python",
   "name": "python",
   "nbconvert_exporter": "python",
   "pygments_lexer": "ipython3",
   "version": "3.12.4"
  }
 },
 "nbformat": 4,
 "nbformat_minor": 2
}
