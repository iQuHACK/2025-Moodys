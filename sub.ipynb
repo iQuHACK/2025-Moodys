{
 "cells": [
  {
   "cell_type": "code",
   "execution_count": 49,
   "metadata": {},
   "outputs": [],
   "source": [
    "import pandas as pd\n",
    "import numpy as np\n",
    "\n",
    "df = pd.read_csv(\"KPAtlasDB_2022_en.csv\", encoding='latin-1')\n",
    "df = df[df['Indicator'] == \"Transgender people: Population size estimate\"]\n",
    "years = df['Time Period'].values\n",
    "counts = df['Data value'].values\n",
    "\n",
    "time_series = []\n",
    "\n",
    "for i in range(min(years), max(years) + 1):\n",
    "    mask = [x == i for x in years]\n",
    "\n",
    "    sum = 0\n",
    "    for j in range(len(years)):\n",
    "        sum += float(counts[j]) * mask[j]\n",
    "\n",
    "    time_series.append(sum)\n",
    "\n",
    "time_series = np.array(time_series)\n",
    "\n",
    "point_clouds = TakenPointCloud(time_series, n, 3, w)"
   ]
  },
  {
   "cell_type": "code",
   "execution_count": null,
   "metadata": {},
   "outputs": [],
   "source": []
  },
  {
   "cell_type": "code",
   "execution_count": 50,
   "metadata": {},
   "outputs": [],
   "source": [
    "import pandas as pd\n",
    "import numpy as np\n",
    "from gtda.time_series import SingleTakensEmbedding, TakensEmbedding\n",
    "import gudhi \n",
    "import math\n",
    "#initialization\n",
    "import matplotlib.pyplot as plt\n",
    "import numpy as np\n",
    "import math\n",
    "\n",
    "# importing Qiskit\n",
    "from qiskit import transpile, assemble\n",
    "from qiskit import QuantumCircuit, ClassicalRegister, QuantumRegister\n",
    "from qiskit_aer import Aer\n",
    "import qiskit.quantum_info as qi\n",
    "\n",
    "\n",
    "# import basic plot tools\n",
    "from qiskit.visualization import plot_histogram"
   ]
  },
  {
   "cell_type": "code",
   "execution_count": 51,
   "metadata": {},
   "outputs": [],
   "source": [
    "# initial values for important variables -- will have to find optimal values later on\n",
    "\n",
    "n = 4 # dim of vectors\n",
    "d = 5 # time delay\n",
    "w = 5 # window size\n",
    "epsilon = 0.02 # resolution threshold\n",
    "q = 3 # number of precision qubits\n",
    "simplex_dim = 4 # maximum simplex tree dimension used\n",
    "\n",
    "np.set_printoptions(precision=3, suppress=True)"
   ]
  },
  {
   "cell_type": "code",
   "execution_count": 52,
   "metadata": {},
   "outputs": [],
   "source": [
    "def TakenEmbedding(time_series, dim, delay):\n",
    "    serie = time_series.reshape(1, -1)\n",
    "    TE = TakensEmbedding(time_delay=delay, dimension=dim)\n",
    "    return TE.fit_transform(serie)[0]"
   ]
  },
  {
   "cell_type": "code",
   "execution_count": 53,
   "metadata": {},
   "outputs": [],
   "source": [
    "def TakenPointCloud(time_series, dim, delay, window_size):\n",
    "    embedding = TakenEmbedding(time_series, dim, delay)\n",
    "    point_cloud = []\n",
    "    l = len(embedding)\n",
    "    for i in range(l - window_size):\n",
    "        window = embedding[i : i + window_size]\n",
    "        point_cloud.append(window)\n",
    "\n",
    "    return np.array(point_cloud)"
   ]
  },
  {
   "cell_type": "code",
   "execution_count": 54,
   "metadata": {},
   "outputs": [],
   "source": [
    "def SimplexTrees(cloud, simplices, resolution):\n",
    "    rips_complex = gudhi.RipsComplex(points = cloud, max_edge_length = resolution)\n",
    "    simplex_tree = rips_complex.create_simplex_tree(max_dimension = simplices)\n",
    "\n",
    "    simplex = [val for val, dist in simplex_tree.get_filtration()]\n",
    "\n",
    "    simplex = sorted(simplex, key=lambda vector: (len(vector), vector))\n",
    "    return simplex"
   ]
  },
  {
   "cell_type": "code",
   "execution_count": 55,
   "metadata": {},
   "outputs": [],
   "source": [
    "import scipy\n",
    "\n",
    "def unitarize(h):\n",
    "    if np.any(np.isinf(h)):\n",
    "        h = np.identity(len(h))\n",
    "    if not np.allclose(h, h.conj().T, atol = 1e-8):\n",
    "        print(h)\n",
    "        raise ValueError(\"Input matrix H must be Hermitian.\")\n",
    "    ih = 1j * h\n",
    "    return scipy.linalg.expm(ih)"
   ]
  },
  {
   "cell_type": "code",
   "execution_count": 56,
   "metadata": {},
   "outputs": [],
   "source": [
    "def BoundaryOperators(simplex_tree, dimension):\n",
    "    minus = [elem for elem in simplex_tree if len(elem) == dimension] # for 1-simplicities will find all points, etc.\n",
    "    forms = [elem for elem in simplex_tree if len(elem) == dimension + 1] # for 1-simplicities will find all edges, etc. \n",
    "\n",
    "    if(dimension == 0):\n",
    "        return np.array([[(-1) ** i] for i in range(len([item for item in simplex_tree if len(item) == 1]))])\n",
    "\n",
    "    operator = []\n",
    "\n",
    "    for simplex_minus in minus:\n",
    "        simplices = []\n",
    "\n",
    "        for simplex_form in forms:\n",
    "            if(all(item in simplex_form for item in simplex_minus) and len(simplex_minus) + 1 == len(simplex_form)):\n",
    "                val = list(set(simplex_form) - set(simplex_minus))[0]\n",
    "                if(val % 2 == 1):\n",
    "                    simplices.append(-1)\n",
    "                else:\n",
    "                    simplices.append(1)\n",
    "            else:\n",
    "                simplices.append(0)\n",
    "\n",
    "        operator.append(simplices)\n",
    "    return np.array(operator)"
   ]
  },
  {
   "cell_type": "code",
   "execution_count": 57,
   "metadata": {},
   "outputs": [],
   "source": [
    "def CombinatorialLaplacian(tree, index):    \n",
    "    delta_k = np.array(BoundaryOperators(tree, index))\n",
    "    delta_l = np.array(BoundaryOperators(tree, index + 1))\n",
    "\n",
    "    temp = np.matmul(delta_k.conj().T, delta_k) + np.matmul(delta_l, delta_l.conj().T)\n",
    "\n",
    "    points = len([items for items in tree if len(items) == index + 1])\n",
    "\n",
    "    if(len(temp) <= 1):\n",
    "        return np.array([1])\n",
    "\n",
    "    dim = 2 ** math.ceil(math.log(points, 2))\n",
    "    pad = dim - points\n",
    "    temp = np.pad(temp, (0, pad))\n",
    "\n",
    "    gershgorin = []\n",
    "    for i in range(len(temp)):\n",
    "        sum = 0\n",
    "        \n",
    "        for j in range(len(temp[i])):\n",
    "            if(i != j):\n",
    "                sum += np.abs(temp[i][j])\n",
    "        \n",
    "        gershgorin.append(sum)\n",
    "\n",
    "    max_eigenval = max(gershgorin)\n",
    "    \n",
    "    for i in range(points, dim):\n",
    "        temp[i][i] = max_eigenval / 2\n",
    "    \n",
    "    return temp * 6 / max_eigenval # return val should be Hermitian"
   ]
  },
  {
   "cell_type": "code",
   "execution_count": 58,
   "metadata": {},
   "outputs": [],
   "source": [
    "def qft_dagger(qc, n):\n",
    "    \"\"\"n-qubit QFTdagger the first n qubits in circ\"\"\"\n",
    "    # Don't forget the Swaps!\n",
    "    for qubit in range(n//2):\n",
    "        qc.swap(qubit, n-qubit-1)\n",
    "    for j in range(n):\n",
    "        for m in range(j):\n",
    "            qc.cp(-math.pi/float(2**(j-m)), m, j)\n",
    "        qc.h(j)\n",
    "    "
   ]
  },
  {
   "cell_type": "code",
   "execution_count": 59,
   "metadata": {},
   "outputs": [],
   "source": [
    "def betti_num(laplacian):\n",
    "    # Create and set up circuit\n",
    "    counting_q = 3\n",
    "    kickback_q = int(math.log(len(laplacian), 2))\n",
    "    qpe_L = QuantumCircuit(kickback_q, 0)\n",
    "    qpe_f = QuantumCircuit(kickback_q + counting_q, counting_q)\n",
    "\n",
    "    # Apply H-Gates to counting qubits:\n",
    "    for qubit in range(counting_q):\n",
    "        qpe_f.h(qubit)\n",
    "\n",
    "    if(kickback_q > 0):\n",
    "        unitary_matrix = qi.Operator(laplacian)\n",
    "\n",
    "        qubit_array = [q for q in range(kickback_q)]\n",
    "\n",
    "        qpe_L.unitary(unitary_matrix, qubit_array, label=\"L\")\n",
    "        L = qpe_L.to_gate().control(1)\n",
    "\n",
    "        for k in range(counting_q):\n",
    "            for j in range(2 ** k):\n",
    "                q_list = [k]\n",
    "                q_extend = list(range(counting_q, counting_q + kickback_q))\n",
    "                q_list.extend(q_extend)\n",
    "                qpe_f.append(L, q_list)\n",
    "\n",
    "    qft_dagger(qpe_f, 3)\n",
    "\n",
    "    qpe_f.draw()\n",
    "\n",
    "    # Measure of course!\n",
    "    qpe_f.barrier()\n",
    "    for n in range(counting_q):\n",
    "        qpe_f.measure(n,n)\n",
    "\n",
    "    qpe_f.draw()\n",
    "\n",
    "    aer_sim = Aer.get_backend('aer_simulator')\n",
    "    shots = 2048\n",
    "    t_qpe = transpile(qpe_f, aer_sim)\n",
    "    result = aer_sim.run(t_qpe, shots=shots).result()\n",
    "    counts = result.get_counts()\n",
    "    probabilities = {state: count for state, count in counts.items()}\n",
    "    count = probabilities['000']\n",
    "\n",
    "    betti_num = count / shots * pow(2, counting_q)\n",
    "    return betti_num\n"
   ]
  },
  {
   "cell_type": "code",
   "execution_count": 60,
   "metadata": {},
   "outputs": [],
   "source": [
    "def classical_betti_solver(point_cloud, epsilon, dim):\n",
    "    '''Return the Betti number on a given point cloud.\n",
    "    Args:\n",
    "        point_cloud: the point cloud after applying the sliding window.\n",
    "        epsilon: resolution threshold.\n",
    "        dim: the dimension on which the Betti number is calculated\n",
    "    '''\n",
    "    tree = SimplexTrees(point_cloud, dim + 2, epsilon)\n",
    "    laplacian = unitarize(CombinatorialLaplacian(tree, dim))\n",
    "    betti = round(betti_num(laplacian))\n",
    "    return betti"
   ]
  },
  {
   "cell_type": "code",
   "execution_count": 61,
   "metadata": {},
   "outputs": [],
   "source": [
    "def classical_betti_solver(point_cloud, epsilon, dim):\n",
    "    '''Return the Betti number on a given point cloud.\n",
    "    Args:\n",
    "        point_cloud: the point cloud after applying the sliding window.\n",
    "        epsilon: resolution threshold.\n",
    "        dim: the dimension on which the Betti number is calculated\n",
    "    '''\n",
    "    tree = SimplexTrees(point_cloud, dim + 2, epsilon)\n",
    "    laplacian = unitarize(CombinatorialLaplacian(tree, dim))\n",
    "    betti = round(betti_num(laplacian))\n",
    "    return betti"
   ]
  },
  {
   "cell_type": "code",
   "execution_count": 62,
   "metadata": {},
   "outputs": [],
   "source": [
    "from sklearn.linear_model import LinearRegression\n",
    "from sklearn.preprocessing import LabelEncoder, OneHotEncoder, LabelBinarizer\n",
    "from sklearn.metrics import confusion_matrix, ConfusionMatrixDisplay, roc_curve, auc\n",
    "from itertools import cycle\n",
    "import matplotlib.pyplot as plt\n",
    "\n",
    "\n",
    "betti_num_arr_0 = []\n",
    "betti_num_arr_1 = []\n",
    "time_series_arr = []\n",
    "time_arr = []\n",
    "\n",
    "for i in range(len(point_clouds)):\n",
    "    betti_num_arr_0.append(classical_betti_solver(point_clouds[i], epsilon, 0))\n",
    "    betti_num_arr_1.append(classical_betti_solver(point_clouds[i], epsilon, 1))\n",
    "    time_series_arr.append(10 ** time_series[i])\n",
    "    time_arr.append(i)"
   ]
  },
  {
   "cell_type": "code",
   "execution_count": 63,
   "metadata": {},
   "outputs": [
    {
     "data": {
      "image/png": "[encoded data removed]",
      "text/plain": [
       "<Figure size 640x480 with 2 Axes>"
      ]
     },
     "metadata": {},
     "output_type": "display_data"
    }
   ],
   "source": [
    "y_0 = betti_num_arr_0\n",
    "y_1 = betti_num_arr_1\n",
    "y = time_series_arr\n",
    "x = time_arr\n",
    "\n",
    "fig, ax1 = plt.subplots()\n",
    "\n",
    "ax1.plot(x, y_0, color='tab:orange')\n",
    "ax1.plot(x, y_1, color='tab:blue')\n",
    "\n",
    "ax2 = ax1.twinx()\n",
    "ax2.plot(x, y, color='tab:red')\n",
    "\n",
    "plt.show()"
   ]
  }
 ],
 "metadata": {
  "kernelspec": {
   "display_name": "Python 3",
   "language": "python",
   "name": "python3"
  },
  "language_info": {
   "codemirror_mode": {
    "name": "ipython",
    "version": 3
   },
   "file_extension": ".py",
   "mimetype": "text/x-python",
   "name": "python",
   "nbconvert_exporter": "python",
   "pygments_lexer": "ipython3",
   "version": "3.12.4"
  }
 },
 "nbformat": 4,
 "nbformat_minor": 2
}
