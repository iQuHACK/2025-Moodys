{
 "cells": [
  {
   "cell_type": "code",
   "execution_count": 21,
   "metadata": {},
   "outputs": [],
   "source": [
    "from qiskit import QuantumCircuit, QuantumRegister, ClassicalRegister, transpile\n",
    "from qiskit_aer import AerSimulator\n",
    "from qiskit.quantum_info import Operator\n",
    "from qiskit.visualization import plot_histogram\n",
    "import numpy as np\n",
    "import math"
   ]
  },
  {
   "cell_type": "code",
   "execution_count": 5,
   "metadata": {},
   "outputs": [],
   "source": [
    "pi=np.pi"
   ]
  },
  {
   "cell_type": "code",
   "execution_count": 22,
   "metadata": {},
   "outputs": [],
   "source": [
    "def qft_rot(circuit, n):\n",
    "    if n == 0:\n",
    "        return circuit\n",
    "    \n",
    "    n = n-1\n",
    "    circuit.h(n)\n",
    "    for i in range(n):\n",
    "        circuit.cp(pi/(2**(n-i)), i, n)\n",
    "    \n",
    "    qft_rot(circuit, n)"
   ]
  },
  {
   "cell_type": "code",
   "execution_count": 23,
   "metadata": {},
   "outputs": [],
   "source": [
    "def iqft_rot(circuit, n):\n",
    "    for i in range(n):\n",
    "        if i > 0:\n",
    "            for j in range(i, 0, -1):\n",
    "                circuit.cp(-pi/(2**j), i, i-j)\n",
    "        circuit.h(i) \n",
    "    return circuit"
   ]
  },
  {
   "cell_type": "code",
   "execution_count": 28,
   "metadata": {},
   "outputs": [],
   "source": [
    "def phase_estimation(oracle, eigenstate, number_qubits):\n",
    "    n = number_qubits\n",
    "    qr = QuantumRegister(n+1, 'q')\n",
    "    c = ClassicalRegister(n, 'c')\n",
    "    qc = QuantumCircuit(qr, c)\n",
    "    \n",
    "    if eigenstate == 1:\n",
    "        qc.x(n)\n",
    "       \n",
    "    for i in range(n//2):\n",
    "        qc.swap(i, n-i-1)\n",
    "        \n",
    "    for i in range(3):\n",
    "        qc.h(i) \n",
    "        \n",
    "    cGate = oracle.control(1)\n",
    "    qc.barrier()\n",
    "    \n",
    "    for i in range(n):\n",
    "        for j in range(2**i):\n",
    "            qc.append(cGate, [i, n])\n",
    "            \n",
    "    qc.barrier()\n",
    "    iqft_rot(qc, n+1)\n",
    "    qc.barrier()\n",
    "    \n",
    "    for i in range(n):\n",
    "        qc.measure(i, i)\n",
    "        \n",
    "    aersim = AerSimulator(shots=1000)\n",
    "    circuit_transpile = transpile(qc, aersim)\n",
    "    result = aersim.run(circuit_transpile).result()\n",
    "    counts = result.get_counts()\n",
    "    \n",
    "    # Get the most common bitstring and convert to phase\n",
    "    most_common_bitstring = max(counts, key=counts.get)\n",
    "    N = len(most_common_bitstring)\n",
    "    phase = int(most_common_bitstring, 2) / 2**N\n",
    "    \n",
    "    hist = plot_histogram(counts, title=f\"Phase Estimation for |{1}>\")\n",
    "    \n",
    "    return counts, phase, qc"
   ]
  },
  {
   "cell_type": "code",
   "execution_count": 25,
   "metadata": {},
   "outputs": [],
   "source": [
    "def create_gate_from_matrix(matrix):\n",
    "    \"\"\"\n",
    "    Create a quantum circuit from a nxn unitary matrix\n",
    "    \"\"\"\n",
    "    n = matrix.shape[0]\n",
    "    n_qubits = int(math.log2(n))\n",
    "    qc = QuantumCircuit(1)  # We only need 1 qubit for 2x2 matrix\n",
    "    \n",
    "    op = Operator(matrix)\n",
    "    qc.unitary(op, [0], label='L')\n",
    "    \n",
    "    return qc"
   ]
  },
  {
   "cell_type": "code",
   "execution_count": 26,
   "metadata": {},
   "outputs": [],
   "source": [
    "def analyze_phases(counts, n_qubits, zero_threshold=1e-3):\n",
    "    \"\"\"\n",
    "    Analyze phases from measurement results and count zero phases\n",
    "    \"\"\"\n",
    "    total_shots = sum(counts.values())\n",
    "    phases = {}\n",
    "    zero_phase_count = 0\n",
    "    \n",
    "    for bitstring, count in counts.items():\n",
    "        phase = int(bitstring, 2) / (2**n_qubits)\n",
    "        probability = count / total_shots\n",
    "        phases[phase] = probability\n",
    "        \n",
    "        if phase < zero_threshold:\n",
    "            zero_phase_count += 1\n",
    "            \n",
    "    return phases, zero_phase_count"
   ]
  },
  {
   "cell_type": "code",
   "execution_count": 31,
   "metadata": {},
   "outputs": [],
   "source": [
    "def analyze_matrix(matrix, n_qubits=4, zero_threshold=1e-3):\n",
    "    \"\"\"\n",
    "    Analyze a matrix using QPE to detect zero eigenvalues\n",
    "    \"\"\"\n",
    "    \n",
    "    # Create gate from matrix\n",
    "    gate = create_gate_from_matrix(matrix)\n",
    "    \n",
    "    # Run phase estimation\n",
    "    counts, estimated_phase, _ = phase_estimation(gate, 1, n_qubits)\n",
    "    \n",
    "    # Analyze phases and count zeros\n",
    "    phases, zero_count = analyze_phases(counts, n_qubits, zero_threshold)\n",
    "    \n",
    "    print(f\"\\nResults:\")\n",
    "    print(f\"Estimated primary phase: {estimated_phase:.4f}\")\n",
    "    print(f\"Number of zero phases detected: {zero_count}\")\n",
    "    \n",
    "    return zero_count"
   ]
  },
  {
   "cell_type": "code",
   "execution_count": 34,
   "metadata": {},
   "outputs": [
    {
     "name": "stdout",
     "output_type": "stream",
     "text": [
      "Analyzing matrix:\n",
      "[[0.99500417-0.09983342j 0.        +0.j        ]\n",
      " [0.        +0.j         0.99500417-0.09983342j]]\n",
      "\n",
      "Results:\n",
      "Estimated primary phase: 0.0000\n",
      "Number of zero phases detected: 1\n",
      "\n",
      "Final result: 1 zero eigenvalues detected\n"
     ]
    }
   ],
   "source": [
    "L = np.array([[0.99500417-0.09983342j, 0],\n",
    "                [0, 0.99500417-0.09983342j]])\n",
    "\n",
    "print(\"Analyzing matrix:\")\n",
    "print(L)\n",
    "n_zeros = analyze_matrix(L)\n",
    "print(f\"\\nFinal result: {n_zeros} zero eigenvalues detected\")"
   ]
  },
  {
   "cell_type": "code",
   "execution_count": null,
   "metadata": {},
   "outputs": [],
   "source": []
  }
 ],
 "metadata": {
  "kernelspec": {
   "display_name": "base",
   "language": "python",
   "name": "python3"
  },
  "language_info": {
   "codemirror_mode": {
    "name": "ipython",
    "version": 3
   },
   "file_extension": ".py",
   "mimetype": "text/x-python",
   "name": "python",
   "nbconvert_exporter": "python",
   "pygments_lexer": "ipython3",
   "version": "3.11.7"
  }
 },
 "nbformat": 4,
 "nbformat_minor": 2
}
